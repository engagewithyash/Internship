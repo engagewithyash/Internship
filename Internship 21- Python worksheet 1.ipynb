{
 "cells": [
  {
   "cell_type": "markdown",
   "metadata": {},
   "source": [
    "11. Write a python program to find the factorial of a number."
   ]
  },
  {
   "cell_type": "code",
   "execution_count": 1,
   "metadata": {},
   "outputs": [
    {
     "data": {
      "text/plain": [
       "24"
      ]
     },
     "execution_count": 1,
     "metadata": {},
     "output_type": "execute_result"
    }
   ],
   "source": [
    "def factorial(n):\n",
    "    if n < 0:\n",
    "        return 0\n",
    "    elif n == 0 or n == 1:\n",
    "        return 1\n",
    "    else:\n",
    "        var1 = 1\n",
    "        while(n > 1):\n",
    "            var1 = var1 * n\n",
    "            n = n - 1\n",
    "        return var1\n",
    "    \n",
    "factorial(4)"
   ]
  },
  {
   "cell_type": "markdown",
   "metadata": {},
   "source": [
    "12. Write a python program to find whether a number is prime or composite."
   ]
  },
  {
   "cell_type": "code",
   "execution_count": 2,
   "metadata": {},
   "outputs": [
    {
     "name": "stdout",
     "output_type": "stream",
     "text": [
      "407 is a composite number as it is divisible by  11\n"
     ]
    }
   ],
   "source": [
    "def prime_composite(num):\n",
    "    \n",
    "    if num>1:\n",
    "        for i in range(2,num):\n",
    "            if num%i==0:\n",
    "                print(num, \"is a composite number as it is divisible by \", i)\n",
    "                break\n",
    "        else:\n",
    "            print(num, \"is a prime number.\")\n",
    "            \n",
    "    else:\n",
    "        print(num, \"is neither prime nor composite.\")\n",
    "            \n",
    "prime_composite(407)"
   ]
  },
  {
   "cell_type": "markdown",
   "metadata": {},
   "source": [
    "13. Write a python program to check whether a given string is palindrome or not."
   ]
  },
  {
   "cell_type": "code",
   "execution_count": 3,
   "metadata": {},
   "outputs": [
    {
     "name": "stdout",
     "output_type": "stream",
     "text": [
      "Yes, string is palindrome.\n"
     ]
    }
   ],
   "source": [
    "def palindrome(x):\n",
    "    y=x[::-1]\n",
    "    if y==x:\n",
    "        print(\"Yes, string is palindrome.\")\n",
    "    else:\n",
    "            print(\"No, string is not palindrome.\")\n",
    "\n",
    "palindrome('kadak')"
   ]
  },
  {
   "cell_type": "markdown",
   "metadata": {},
   "source": [
    "14. Write a Python program to get the third side of right-angled triangle from two given sides."
   ]
  },
  {
   "cell_type": "code",
   "execution_count": 4,
   "metadata": {},
   "outputs": [
    {
     "data": {
      "text/plain": [
       "'perpendicular= 2.6457513110645907'"
      ]
     },
     "execution_count": 4,
     "metadata": {},
     "output_type": "execute_result"
    }
   ],
   "source": [
    "def TriangleSides(base,perpendicular,hypotenuse):\n",
    "    import math \n",
    "    if hypotenuse ==str('x'):\n",
    "        return \"hypotenuse = \"+ str(math.sqrt((base**2)+(perpendicular**2)))\n",
    "        \n",
    "    elif perpendicular==str('x'):\n",
    "        return \"perpendicular= \" + str(math.sqrt((hypotenuse**2)-(base**2)))\n",
    "        \n",
    "    elif base==str('x'):\n",
    "        return \"base= \" + str(math.sqrt((hypotenuse**2)-(perpendicular**2)))\n",
    "        \n",
    "    \n",
    "TriangleSides(3,'x',4)"
   ]
  },
  {
   "cell_type": "markdown",
   "metadata": {},
   "source": [
    "15. Write a python program to print the frequency of each of the characters present in a given string."
   ]
  },
  {
   "cell_type": "code",
   "execution_count": 5,
   "metadata": {},
   "outputs": [
    {
     "name": "stdout",
     "output_type": "stream",
     "text": [
      "Frequencies are: \n",
      "{'t': 1, 'a': 1, 'r': 1, 'u': 1, 'n': 2}\n"
     ]
    }
   ],
   "source": [
    "def frequency(string):\n",
    "    dump_dict = {}\n",
    "    for i in string:\n",
    "        if i in dump_dict:\n",
    "            dump_dict[i] = dump_dict[i] + 1\n",
    "        else:\n",
    "                dump_dict[i] = 1\n",
    "    print(\"Frequencies are: \")\n",
    "    print(dump_dict)\n",
    "    \n",
    "frequency('tarunn')"
   ]
  },
  {
   "cell_type": "code",
   "execution_count": null,
   "metadata": {},
   "outputs": [],
   "source": []
  },
  {
   "cell_type": "code",
   "execution_count": null,
   "metadata": {},
   "outputs": [],
   "source": []
  }
 ],
 "metadata": {
  "kernelspec": {
   "display_name": "Python 3",
   "language": "python",
   "name": "python3"
  },
  "language_info": {
   "codemirror_mode": {
    "name": "ipython",
    "version": 3
   },
   "file_extension": ".py",
   "mimetype": "text/x-python",
   "name": "python",
   "nbconvert_exporter": "python",
   "pygments_lexer": "ipython3",
   "version": "3.8.5"
  }
 },
 "nbformat": 4,
 "nbformat_minor": 4
}
